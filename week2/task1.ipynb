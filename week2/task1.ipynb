{
 "cells": [
  {
   "cell_type": "code",
   "execution_count": 13,
   "metadata": {},
   "outputs": [],
   "source": [
    "import math\n",
    "import numpy as np"
   ]
  },
  {
   "cell_type": "code",
   "execution_count": 20,
   "metadata": {},
   "outputs": [],
   "source": [
    "import pandas as pd"
   ]
  },
  {
   "cell_type": "code",
   "execution_count": 14,
   "metadata": {},
   "outputs": [
    {
     "data": {
      "text/plain": [
       "array([[ 7,  8,  9, 10, 11, 12, 13, 14, 15, 16, 17, 18]])"
      ]
     },
     "execution_count": 14,
     "metadata": {},
     "output_type": "execute_result"
    }
   ],
   "source": [
    "fA = np.array([[7, 8, 9, 10, 11, 12, 13, 14, 15, 16, 17, 18]])\n",
    "fA"
   ]
  },
  {
   "cell_type": "code",
   "execution_count": 15,
   "metadata": {},
   "outputs": [
    {
     "data": {
      "text/plain": [
       "array([[  5,  13,  19,  14,  42,  49,  46,  67,  64,  32,  12,   4],\n",
       "       [  8,  17,  28,  39,  66,  71,  74, 154, 126,  57,  20,   7],\n",
       "       [  2,   8,  15,  24,  14,  51,  48,  68, 145,  55,  11,   2]])"
      ]
     },
     "execution_count": 15,
     "metadata": {},
     "output_type": "execute_result"
    }
   ],
   "source": [
    "fB = np.array(\n",
    "    [\n",
    "        [5, 13, 19, 14, 42, 49, 46, 67, 64, 32, 12, 4],\n",
    "        [8, 17, 28, 39, 66, 71, 74, 154, 126, 57, 20, 7],\n",
    "        [2, 8, 15, 24, 14, 51, 48, 68, 145, 55, 11, 2],\n",
    "    ]\n",
    ")\n",
    "\n",
    "fB"
   ]
  },
  {
   "cell_type": "code",
   "execution_count": 16,
   "metadata": {},
   "outputs": [
    {
     "data": {
      "text/plain": [
       "array([[  7,   5,   8,   2],\n",
       "       [  8,  13,  17,   8],\n",
       "       [  9,  19,  28,  15],\n",
       "       [ 10,  14,  39,  24],\n",
       "       [ 11,  42,  66,  14],\n",
       "       [ 12,  49,  71,  51],\n",
       "       [ 13,  46,  74,  48],\n",
       "       [ 14,  67, 154,  68],\n",
       "       [ 15,  64, 126, 145],\n",
       "       [ 16,  32,  57,  55],\n",
       "       [ 17,  12,  20,  11],\n",
       "       [ 18,   4,   7,   2]])"
      ]
     },
     "execution_count": 16,
     "metadata": {},
     "output_type": "execute_result"
    }
   ],
   "source": [
    "fC = np.concatenate((fA, fB), axis=0).T\n",
    "fC"
   ]
  },
  {
   "cell_type": "markdown",
   "metadata": {},
   "source": [
    "#task 1D = 289"
   ]
  },
  {
   "cell_type": "code",
   "execution_count": 51,
   "metadata": {},
   "outputs": [
    {
     "data": {
      "text/plain": [
       "289"
      ]
     },
     "execution_count": 51,
     "metadata": {},
     "output_type": "execute_result"
    }
   ],
   "source": [
    "fC[(fC[:, 0] == 14)][:,1:].sum()"
   ]
  },
  {
   "cell_type": "code",
   "execution_count": 27,
   "metadata": {},
   "outputs": [
    {
     "data": {
      "text/html": [
       "<div>\n",
       "<style scoped>\n",
       "    .dataframe tbody tr th:only-of-type {\n",
       "        vertical-align: middle;\n",
       "    }\n",
       "\n",
       "    .dataframe tbody tr th {\n",
       "        vertical-align: top;\n",
       "    }\n",
       "\n",
       "    .dataframe thead th {\n",
       "        text-align: right;\n",
       "    }\n",
       "</style>\n",
       "<table border=\"1\" class=\"dataframe\">\n",
       "  <thead>\n",
       "    <tr style=\"text-align: right;\">\n",
       "      <th></th>\n",
       "      <th>Time</th>\n",
       "      <th>Floor1</th>\n",
       "      <th>Floor2</th>\n",
       "      <th>Floor3</th>\n",
       "    </tr>\n",
       "  </thead>\n",
       "  <tbody>\n",
       "    <tr>\n",
       "      <th>0</th>\n",
       "      <td>7</td>\n",
       "      <td>5</td>\n",
       "      <td>8</td>\n",
       "      <td>2</td>\n",
       "    </tr>\n",
       "    <tr>\n",
       "      <th>1</th>\n",
       "      <td>8</td>\n",
       "      <td>13</td>\n",
       "      <td>17</td>\n",
       "      <td>8</td>\n",
       "    </tr>\n",
       "    <tr>\n",
       "      <th>2</th>\n",
       "      <td>9</td>\n",
       "      <td>19</td>\n",
       "      <td>28</td>\n",
       "      <td>15</td>\n",
       "    </tr>\n",
       "    <tr>\n",
       "      <th>3</th>\n",
       "      <td>10</td>\n",
       "      <td>14</td>\n",
       "      <td>39</td>\n",
       "      <td>24</td>\n",
       "    </tr>\n",
       "    <tr>\n",
       "      <th>4</th>\n",
       "      <td>11</td>\n",
       "      <td>42</td>\n",
       "      <td>66</td>\n",
       "      <td>14</td>\n",
       "    </tr>\n",
       "    <tr>\n",
       "      <th>5</th>\n",
       "      <td>12</td>\n",
       "      <td>49</td>\n",
       "      <td>71</td>\n",
       "      <td>51</td>\n",
       "    </tr>\n",
       "    <tr>\n",
       "      <th>6</th>\n",
       "      <td>13</td>\n",
       "      <td>46</td>\n",
       "      <td>74</td>\n",
       "      <td>48</td>\n",
       "    </tr>\n",
       "    <tr>\n",
       "      <th>7</th>\n",
       "      <td>14</td>\n",
       "      <td>67</td>\n",
       "      <td>154</td>\n",
       "      <td>68</td>\n",
       "    </tr>\n",
       "    <tr>\n",
       "      <th>8</th>\n",
       "      <td>15</td>\n",
       "      <td>64</td>\n",
       "      <td>126</td>\n",
       "      <td>145</td>\n",
       "    </tr>\n",
       "    <tr>\n",
       "      <th>9</th>\n",
       "      <td>16</td>\n",
       "      <td>32</td>\n",
       "      <td>57</td>\n",
       "      <td>55</td>\n",
       "    </tr>\n",
       "    <tr>\n",
       "      <th>10</th>\n",
       "      <td>17</td>\n",
       "      <td>12</td>\n",
       "      <td>20</td>\n",
       "      <td>11</td>\n",
       "    </tr>\n",
       "    <tr>\n",
       "      <th>11</th>\n",
       "      <td>18</td>\n",
       "      <td>4</td>\n",
       "      <td>7</td>\n",
       "      <td>2</td>\n",
       "    </tr>\n",
       "  </tbody>\n",
       "</table>\n",
       "</div>"
      ],
      "text/plain": [
       "    Time  Floor1  Floor2  Floor3\n",
       "0      7       5       8       2\n",
       "1      8      13      17       8\n",
       "2      9      19      28      15\n",
       "3     10      14      39      24\n",
       "4     11      42      66      14\n",
       "5     12      49      71      51\n",
       "6     13      46      74      48\n",
       "7     14      67     154      68\n",
       "8     15      64     126     145\n",
       "9     16      32      57      55\n",
       "10    17      12      20      11\n",
       "11    18       4       7       2"
      ]
     },
     "execution_count": 27,
     "metadata": {},
     "output_type": "execute_result"
    }
   ],
   "source": [
    "dF = pd.DataFrame(\n",
    "    {\n",
    "        \"Time\": list(range(7, 19)),\n",
    "        \"Floor1\": [5, 13, 19, 14, 42, 49, 46, 67, 64, 32, 12, 4],\n",
    "        \"Floor2\": [8, 17, 28, 39, 66, 71, 74, 154, 126, 57, 20, 7],\n",
    "        \"Floor3\": [2, 8, 15, 24, 14, 51, 48, 68, 145, 55, 11, 2],\n",
    "    }\n",
    ")\n",
    "dF"
   ]
  },
  {
   "cell_type": "code",
   "execution_count": 32,
   "metadata": {},
   "outputs": [
    {
     "data": {
      "text/plain": [
       "289"
      ]
     },
     "execution_count": 32,
     "metadata": {},
     "output_type": "execute_result"
    }
   ],
   "source": [
    "dF[dF[\"Time\"] == 14][[\"Floor1\", \"Floor2\", \"Floor3\"]].values.sum()"
   ]
  },
  {
   "cell_type": "code",
   "execution_count": 47,
   "metadata": {},
   "outputs": [
    {
     "data": {
      "text/plain": [
       "443"
      ]
     },
     "execution_count": 47,
     "metadata": {},
     "output_type": "execute_result"
    }
   ],
   "source": [
    "fC[((fC[:, 0] >= 7) & (fC[:,0]<=18))][:,-1].sum()"
   ]
  },
  {
   "cell_type": "code",
   "execution_count": 41,
   "metadata": {},
   "outputs": [
    {
     "data": {
      "text/plain": [
       "1163"
      ]
     },
     "execution_count": 41,
     "metadata": {},
     "output_type": "execute_result"
    }
   ],
   "source": [
    "fC[((fC[:, 0] >= 12) & (fC[:,0]<=18))][:,1:].sum()"
   ]
  }
 ],
 "metadata": {
  "kernelspec": {
   "display_name": "env",
   "language": "python",
   "name": "python3"
  },
  "language_info": {
   "codemirror_mode": {
    "name": "ipython",
    "version": 3
   },
   "file_extension": ".py",
   "mimetype": "text/x-python",
   "name": "python",
   "nbconvert_exporter": "python",
   "pygments_lexer": "ipython3",
   "version": "3.11.4"
  },
  "orig_nbformat": 4
 },
 "nbformat": 4,
 "nbformat_minor": 2
}
