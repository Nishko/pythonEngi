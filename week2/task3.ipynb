{
 "cells": [
  {
   "cell_type": "code",
   "execution_count": 3,
   "metadata": {},
   "outputs": [],
   "source": [
    "import math\n",
    "import numpy as np"
   ]
  },
  {
   "cell_type": "code",
   "execution_count": 8,
   "metadata": {},
   "outputs": [
    {
     "data": {
      "text/plain": [
       "[7.238229473870882,\n",
       " 65.44984694978736,\n",
       " 229.84729611703878,\n",
       " 407.720083373088,\n",
       " 817.2832344362822,\n",
       " 998.305991926331,\n",
       " 2395.0957848241965]"
      ]
     },
     "execution_count": 8,
     "metadata": {},
     "output_type": "execute_result"
    }
   ],
   "source": [
    "def calc_volume(radius: float) -> float:\n",
    "    return 4 / 3 * np.pi * radius**3\n",
    "\n",
    "\n",
    "radii = [1.2, 2.5, 3.8, 4.6, 5.8, 6.2, 8.3]\n",
    "volumes = list(map(calc_volume, radii))\n",
    "volumes"
   ]
  },
  {
   "cell_type": "code",
   "execution_count": 10,
   "metadata": {},
   "outputs": [
    {
     "data": {
      "text/plain": [
       "[0.011581167158193411,\n",
       " 0.10471975511965978,\n",
       " 0.3677556737872621,\n",
       " 0.6523521333969409,\n",
       " 1.3076531750980516,\n",
       " 1.5972895870821298,\n",
       " 3.8321532557187146]"
      ]
     },
     "execution_count": 10,
     "metadata": {},
     "output_type": "execute_result"
    }
   ],
   "source": [
    "density = 1.6 / 1000\n",
    "\n",
    "\n",
    "def calc_density(volume: float) -> float:\n",
    "    return volume * density\n",
    "\n",
    "\n",
    "list(map(calc_density, volumes))"
   ]
  },
  {
   "cell_type": "markdown",
   "metadata": {},
   "source": [
    "density = mass / volume"
   ]
  }
 ],
 "metadata": {
  "kernelspec": {
   "display_name": "env",
   "language": "python",
   "name": "python3"
  },
  "language_info": {
   "codemirror_mode": {
    "name": "ipython",
    "version": 3
   },
   "file_extension": ".py",
   "mimetype": "text/x-python",
   "name": "python",
   "nbconvert_exporter": "python",
   "pygments_lexer": "ipython3",
   "version": "3.11.4"
  },
  "orig_nbformat": 4
 },
 "nbformat": 4,
 "nbformat_minor": 2
}
