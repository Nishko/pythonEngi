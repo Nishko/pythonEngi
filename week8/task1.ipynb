{
 "cells": [
  {
   "cell_type": "code",
   "execution_count": 6,
   "metadata": {},
   "outputs": [
    {
     "name": "stdout",
     "output_type": "stream",
     "text": [
      "The smallest integer N such that the sum of cubes is greater than 88 is 4\n"
     ]
    }
   ],
   "source": [
    "SL = int(input(\"Enter the limit SL: \"))\n",
    "\n",
    "N = 1\n",
    "sum_of_cubes = 0\n",
    "\n",
    "while sum_of_cubes <= SL:\n",
    "    sum_of_cubes += N**3\n",
    "    if sum_of_cubes <= SL:\n",
    "        N += 1\n",
    "\n",
    "print(f\"The smallest integer N such that the sum of cubes is greater than {SL} is {N}\")"
   ]
  }
 ],
 "metadata": {
  "kernelspec": {
   "display_name": "env",
   "language": "python",
   "name": "python3"
  },
  "language_info": {
   "codemirror_mode": {
    "name": "ipython",
    "version": 3
   },
   "file_extension": ".py",
   "mimetype": "text/x-python",
   "name": "python",
   "nbconvert_exporter": "python",
   "pygments_lexer": "ipython3",
   "version": "3.11.4"
  },
  "orig_nbformat": 4
 },
 "nbformat": 4,
 "nbformat_minor": 2
}
