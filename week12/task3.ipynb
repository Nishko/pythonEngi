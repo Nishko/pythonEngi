{
 "cells": [
  {
   "cell_type": "code",
   "execution_count": 1,
   "metadata": {},
   "outputs": [],
   "source": [
    "# Cell 1: Importing libraries\n",
    "import numpy as np\n",
    "import matplotlib.pyplot as plt"
   ]
  },
  {
   "cell_type": "code",
   "execution_count": null,
   "metadata": {},
   "outputs": [],
   "source": [
    "# Cell 2: Inputting and plotting the original data\n",
    "data = {\n",
    "    \"Resistance\": [10, 15, 25, 40, 65, 100],\n",
    "    \"Current\": [11.11, 8.04, 6.03, 2.77, 1.97, 1.51],\n",
    "}\n",
    "# Creating the plot for original data\n",
    "plt.figure(figsize=(10, 6))\n",
    "plt.scatter(data[\"Resistance\"], data[\"Current\"], color=\"blue\")\n",
    "plt.title(\"Resistance vs Current\")\n",
    "plt.xlabel(\"Resistance (ohms)\")\n",
    "plt.ylabel(\"Current (amps)\")\n",
    "plt.grid(True)\n",
    "plt.show()"
   ]
  },
  {
   "cell_type": "code",
   "execution_count": null,
   "metadata": {},
   "outputs": [],
   "source": [
    "# Cell 3: Creating and plotting adjusted data\n",
    "resistance_inverse = [1 / r for r in data[\"Resistance\"]]\n",
    "\n",
    "# Creating the plot for adjusted data\n",
    "plt.figure(figsize=(10, 6))\n",
    "plt.scatter(resistance_inverse, data[\"Current\"], color=\"blue\")\n",
    "plt.title(\"Inverse Resistance vs Current\")\n",
    "plt.xlabel(\"1/Resistance (1/ohms)\")\n",
    "plt.ylabel(\"Current (amps)\")\n",
    "plt.grid(True)\n",
    "plt.show()"
   ]
  },
  {
   "cell_type": "code",
   "execution_count": null,
   "metadata": {},
   "outputs": [],
   "source": [
    "# Cell 4: Calculating coefficients using polyfit()\n",
    "coefficients = np.polyfit(resistance_inverse, data[\"Current\"], 1)  # linear fit\n",
    "print(\"Coefficients:\", coefficients)"
   ]
  },
  {
   "cell_type": "code",
   "execution_count": null,
   "metadata": {},
   "outputs": [],
   "source": [
    "# Cell 5: Calculating currents using polyval() and plotting\n",
    "calculated_currents = np.polyval(coefficients, resistance_inverse)\n",
    "\n",
    "# Creating the plot for calculated vs measured data\n",
    "plt.figure(figsize=(10, 6))\n",
    "plt.scatter(resistance_inverse, data[\"Current\"], color=\"blue\", label=\"Measured Data\")\n",
    "plt.plot(resistance_inverse, calculated_currents, color=\"red\", label=\"Calculated Data\")\n",
    "plt.title(\"Inverse Resistance vs Current\")\n",
    "plt.xlabel(\"1/Resistance (1/ohms)\")\n",
    "plt.ylabel(\"Current (amps)\")\n",
    "plt.legend()\n",
    "plt.grid(True)\n",
    "plt.show()"
   ]
  },
  {
   "cell_type": "code",
   "execution_count": null,
   "metadata": {},
   "outputs": [],
   "source": [
    "# Cell 6: 2nd order polynomial fitting\n",
    "coefficients_2nd_order = np.polyfit(data[\"Resistance\"], data[\"Current\"], 2)\n",
    "print(\"2nd Order Coefficients:\", coefficients_2nd_order)"
   ]
  }
 ],
 "metadata": {
  "kernelspec": {
   "display_name": "env",
   "language": "python",
   "name": "python3"
  },
  "language_info": {
   "codemirror_mode": {
    "name": "ipython",
    "version": 3
   },
   "file_extension": ".py",
   "mimetype": "text/x-python",
   "name": "python",
   "nbconvert_exporter": "python",
   "pygments_lexer": "ipython3",
   "version": "3.11.4"
  }
 },
 "nbformat": 4,
 "nbformat_minor": 2
}
