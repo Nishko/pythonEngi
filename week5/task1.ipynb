{
 "cells": [
  {
   "cell_type": "code",
   "execution_count": 5,
   "metadata": {},
   "outputs": [],
   "source": [
    "import numpy as np"
   ]
  },
  {
   "cell_type": "code",
   "execution_count": 6,
   "metadata": {},
   "outputs": [
    {
     "name": "stdout",
     "output_type": "stream",
     "text": [
      "f(x,y) = 4.0\n"
     ]
    }
   ],
   "source": [
    "x = float(input(\"Please enter x: \"))\n",
    "y = float(input(\"Please enter y: \"))\n",
    "\n",
    "if x and y >= 0:\n",
    "    z = x + y\n",
    "elif x >= 0 and y < 0:\n",
    "    z = x + y**2\n",
    "elif x < 0 and y >= 0:\n",
    "    z = x**2 + y\n",
    "elif x and y < 0:\n",
    "    z = x**2 + y**2\n",
    "\n",
    "print(f\"f(x,y) = {z}\")"
   ]
  }
 ],
 "metadata": {
  "kernelspec": {
   "display_name": "env",
   "language": "python",
   "name": "python3"
  },
  "language_info": {
   "codemirror_mode": {
    "name": "ipython",
    "version": 3
   },
   "file_extension": ".py",
   "mimetype": "text/x-python",
   "name": "python",
   "nbconvert_exporter": "python",
   "pygments_lexer": "ipython3",
   "version": "3.11.4"
  },
  "orig_nbformat": 4
 },
 "nbformat": 4,
 "nbformat_minor": 2
}
