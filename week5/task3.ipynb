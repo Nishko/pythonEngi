{
 "cells": [
  {
   "cell_type": "code",
   "execution_count": 1,
   "metadata": {},
   "outputs": [
    {
     "name": "stdout",
     "output_type": "stream",
     "text": [
      "The square of 2 is 4\n",
      "The square of 4 is 16\n",
      "The square of 6 is 36\n",
      "The square of 8 is 64\n",
      "The square of 10 is 100\n",
      "The square of 12 is 144\n",
      "The square of 14 is 196\n",
      "The square of 16 is 256\n",
      "The square of 18 is 324\n",
      "The square of 20 is 400\n",
      "The square of 22 is 484\n",
      "The square of 24 is 576\n",
      "The square of 26 is 676\n",
      "The square of 28 is 784\n",
      "The square of 30 is 900\n",
      "The square of 32 is 1024\n",
      "The square of 34 is 1156\n",
      "The square of 36 is 1296\n",
      "The square of 38 is 1444\n",
      "The square of 40 is 1600\n",
      "The square of 42 is 1764\n",
      "The square of 44 is 1936\n",
      "The square of 46 is 2116\n",
      "The square of 48 is 2304\n",
      "The square of 50 is 2500\n",
      "The square of 52 is 2704\n",
      "The square of 54 is 2916\n",
      "The square of 56 is 3136\n",
      "The square of 58 is 3364\n",
      "The square of 60 is 3600\n",
      "The square of 62 is 3844\n",
      "The square of 64 is 4096\n",
      "The square of 66 is 4356\n",
      "The square of 68 is 4624\n",
      "The square of 70 is 4900\n",
      "The square of 72 is 5184\n",
      "The square of 74 is 5476\n",
      "The square of 76 is 5776\n",
      "The square of 78 is 6084\n",
      "The square of 80 is 6400\n",
      "The square of 82 is 6724\n",
      "The square of 84 is 7056\n",
      "The square of 86 is 7396\n",
      "The square of 88 is 7744\n",
      "The square of 90 is 8100\n",
      "The square of 92 is 8464\n",
      "The square of 94 is 8836\n",
      "The square of 96 is 9216\n",
      "The square of 98 is 9604\n",
      "The square of 100 is 10000\n"
     ]
    }
   ],
   "source": [
    "for number in range(2, 101, 2):\n",
    "    square = number**2\n",
    "    print(f\"The square of {number} is {square}\")"
   ]
  }
 ],
 "metadata": {
  "kernelspec": {
   "display_name": "env",
   "language": "python",
   "name": "python3"
  },
  "language_info": {
   "codemirror_mode": {
    "name": "ipython",
    "version": 3
   },
   "file_extension": ".py",
   "mimetype": "text/x-python",
   "name": "python",
   "nbconvert_exporter": "python",
   "pygments_lexer": "ipython3",
   "version": "3.11.4"
  },
  "orig_nbformat": 4
 },
 "nbformat": 4,
 "nbformat_minor": 2
}
