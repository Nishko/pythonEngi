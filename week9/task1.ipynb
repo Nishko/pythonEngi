{
 "cells": [
  {
   "cell_type": "code",
   "execution_count": 3,
   "metadata": {},
   "outputs": [],
   "source": [
    "import numpy as np"
   ]
  },
  {
   "cell_type": "markdown",
   "metadata": {},
   "source": [
    "Task 1a"
   ]
  },
  {
   "cell_type": "code",
   "execution_count": 4,
   "metadata": {},
   "outputs": [
    {
     "name": "stdout",
     "output_type": "stream",
     "text": [
      "Solution using left division method: [2.33333333 7.66666667]\n",
      "Solution using inverse matrix method: [2.33333333 7.66666667]\n"
     ]
    }
   ],
   "source": [
    "# Define A and B\n",
    "A1 = np.array([[-2, 1], [1, 1]])\n",
    "b1 = np.array([3, 10])\n",
    "\n",
    "# Left Division Method\n",
    "x1_left_div = np.linalg.solve(A1, b1)\n",
    "print(f\"Solution using left division method: {x1_left_div}\")\n",
    "\n",
    "# Inverse Matrix Method\n",
    "A1_inv = np.linalg.inv(A1)\n",
    "x1_inv = np.dot(A1_inv, b1)\n",
    "print(f\"Solution using inverse matrix method: {x1_inv}\")"
   ]
  },
  {
   "cell_type": "markdown",
   "metadata": {},
   "source": [
    "Task 1b"
   ]
  },
  {
   "cell_type": "code",
   "execution_count": 7,
   "metadata": {},
   "outputs": [
    {
     "name": "stdout",
     "output_type": "stream",
     "text": [
      "Solution using left division method: [ 3.16129032 -2.25806452 -0.96774194]\n",
      "Solution using inverse matrix method: [ 3.16129032 -2.25806452 -0.96774194]\n"
     ]
    }
   ],
   "source": [
    "# Define A and B\n",
    "A2 = np.array([[5, 3, -1], [3, 2, 1], [4, -1, 3]])\n",
    "b2 = np.array([10, 4, 12])\n",
    "\n",
    "# Left Division Method\n",
    "x2_left_div = np.linalg.solve(A2, b2)\n",
    "print(f\"Solution using left division method: {x2_left_div}\")\n",
    "\n",
    "# Inverse Matrix Method\n",
    "A2_inv = np.linalg.inv(A2)\n",
    "x2_inv = np.dot(A2_inv, b2)\n",
    "print(f\"Solution using inverse matrix method: {x2_inv}\")"
   ]
  },
  {
   "cell_type": "markdown",
   "metadata": {},
   "source": [
    "Task 1c"
   ]
  },
  {
   "cell_type": "code",
   "execution_count": 8,
   "metadata": {},
   "outputs": [
    {
     "name": "stdout",
     "output_type": "stream",
     "text": [
      "Solution using left divion method: [12.   -8.25 -3.5  -0.25]\n",
      "Solution using inverse matrix method: [12.   -8.25 -3.5  -0.25]\n"
     ]
    }
   ],
   "source": [
    "# Define A and B\n",
    "A3 = np.array([[3, 1, 1, 1], [1, -3, 7, 1], [2, 2, -3, 4], [1, 1, 1, 1]])\n",
    "b3 = np.array([24, 12, 17, 0])\n",
    "\n",
    "# Left Division Method\n",
    "x3_left_div = np.linalg.solve(A3, b3)\n",
    "print(f\"Solution using left divion method: {x3_left_div}\")\n",
    "\n",
    "# Inverse Matrix Method\n",
    "A3_inv = np.linalg.inv(A3)\n",
    "x3_inv = np.dot(A3_inv, b3)\n",
    "print(f\"Solution using inverse matrix method: {x3_inv}\")"
   ]
  }
 ],
 "metadata": {
  "kernelspec": {
   "display_name": "env",
   "language": "python",
   "name": "python3"
  },
  "language_info": {
   "codemirror_mode": {
    "name": "ipython",
    "version": 3
   },
   "file_extension": ".py",
   "mimetype": "text/x-python",
   "name": "python",
   "nbconvert_exporter": "python",
   "pygments_lexer": "ipython3",
   "version": "3.11.4"
  },
  "orig_nbformat": 4
 },
 "nbformat": 4,
 "nbformat_minor": 2
}
