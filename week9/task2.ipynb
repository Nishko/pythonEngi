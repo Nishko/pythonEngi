{
 "cells": [
  {
   "cell_type": "code",
   "execution_count": 1,
   "metadata": {},
   "outputs": [
    {
     "name": "stdout",
     "output_type": "stream",
     "text": [
      "Component      Density (g/cm3)     Volume (cm3)        Mass (g)            \n",
      "===========================================================================\n",
      "Propellant     1.2                 700                 840.0               \n",
      "Steel          7.8                 200                 1560.0              \n",
      "Aluminum       2.7                 300                 810.0               \n",
      "===========================================================================\n",
      "Total Mass (g)                                         3210.0\n"
     ]
    }
   ],
   "source": [
    "# Lists to store component attributes\n",
    "component_names = [\"Propellant\", \"Steel\", \"Aluminum\"]\n",
    "densities = [1.2, 7.8, 2.7]\n",
    "volumes = [700, 200, 300]\n",
    "\n",
    "# Initialize variable for total mass\n",
    "total_mass = 0.0\n",
    "\n",
    "# Print table header\n",
    "print(f\"{'Component':<15}{'Density (g/cm3)':<20}{'Volume (cm3)':<20}{'Mass (g)':<20}\")\n",
    "print(\"=\" * 75)\n",
    "\n",
    "# Loop through lists to calculate and display mass\n",
    "for i in range(len(component_names)):\n",
    "    component = component_names[i]\n",
    "    density = densities[i]\n",
    "    volume = volumes[i]\n",
    "    mass = density * volume\n",
    "    total_mass += mass\n",
    "\n",
    "    print(f\"{component:<15}{density:<20}{volume:<20}{mass:<20}\")\n",
    "\n",
    "# Display the total mass\n",
    "print(\"=\" * 75)\n",
    "print(f\"{'Total Mass (g)':<55}{total_mass}\")"
   ]
  }
 ],
 "metadata": {
  "kernelspec": {
   "display_name": "env",
   "language": "python",
   "name": "python3"
  },
  "language_info": {
   "codemirror_mode": {
    "name": "ipython",
    "version": 3
   },
   "file_extension": ".py",
   "mimetype": "text/x-python",
   "name": "python",
   "nbconvert_exporter": "python",
   "pygments_lexer": "ipython3",
   "version": "3.11.4"
  },
  "orig_nbformat": 4
 },
 "nbformat": 4,
 "nbformat_minor": 2
}
