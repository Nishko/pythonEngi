{
 "cells": [
  {
   "cell_type": "code",
   "execution_count": 6,
   "metadata": {},
   "outputs": [],
   "source": [
    "import numpy as np\n",
    "import pandas as pd\n",
    "import plotly.express as px"
   ]
  },
  {
   "cell_type": "code",
   "execution_count": 7,
   "metadata": {},
   "outputs": [
    {
     "name": "stdout",
     "output_type": "stream",
     "text": [
      "y(t) = 80.0\n"
     ]
    }
   ],
   "source": [
    "t = float(input(\"Please enter t as a scalar variable: \"))\n",
    "\n",
    "if t >= 10:\n",
    "    t = -3.2 * (t) ** 2 + np.log(t)\n",
    "else:\n",
    "    t = 3.2 * (t) ** 2\n",
    "\n",
    "print(f\"y(t) = {t}\")"
   ]
  }
 ],
 "metadata": {
  "language_info": {
   "name": "python"
  },
  "orig_nbformat": 4
 },
 "nbformat": 4,
 "nbformat_minor": 2
}
