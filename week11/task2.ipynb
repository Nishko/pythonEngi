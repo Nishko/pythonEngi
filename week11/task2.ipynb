{
 "cells": [
  {
   "cell_type": "code",
   "execution_count": 1,
   "metadata": {},
   "outputs": [
    {
     "data": {
      "text/plain": [
       "1819.3967340322902"
      ]
     },
     "execution_count": 1,
     "metadata": {},
     "output_type": "execute_result"
    }
   ],
   "source": [
    "def future_value(Vp, I, n):\n",
    "    \"\"\"\n",
    "    Calculate the future value of an investment.\n",
    "\n",
    "    Parameters:\n",
    "    - Vp: float\n",
    "        Present value or initial investment.\n",
    "    - I: float\n",
    "        Interest rate expressed as a fractional amount per compounding period.\n",
    "    - n: int\n",
    "        Number of compounding periods.\n",
    "\n",
    "    Returns:\n",
    "    - float: Future value of the investment.\n",
    "\n",
    "    Raises:\n",
    "    - ValueError: If any of the inputs are negative.\n",
    "    \"\"\"\n",
    "    # Check for negative values\n",
    "    if Vp < 0 or I < 0 or n < 0:\n",
    "        raise ValueError(\"Inputs cannot be negative.\")\n",
    "\n",
    "    # Calculate the future value\n",
    "    Vf = Vp * (1 + I) ** n\n",
    "    return Vf\n",
    "\n",
    "\n",
    "# Test the function with the provided values\n",
    "initial_investment = 1000  # $1000\n",
    "interest_rate = 0.005  # 0.5% per month\n",
    "compounding_periods = 10 * 12  # 10 years, compounded monthly\n",
    "\n",
    "future_value_investment = future_value(\n",
    "    initial_investment, interest_rate, compounding_periods\n",
    ")\n",
    "future_value_investment"
   ]
  }
 ],
 "metadata": {
  "kernelspec": {
   "display_name": "env",
   "language": "python",
   "name": "python3"
  },
  "language_info": {
   "codemirror_mode": {
    "name": "ipython",
    "version": 3
   },
   "file_extension": ".py",
   "mimetype": "text/x-python",
   "name": "python",
   "nbconvert_exporter": "python",
   "pygments_lexer": "ipython3",
   "version": "3.11.4"
  },
  "orig_nbformat": 4
 },
 "nbformat": 4,
 "nbformat_minor": 2
}
